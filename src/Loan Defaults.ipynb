{
 "cells": [
  {
   "cell_type": "code",
   "execution_count": 1,
   "metadata": {},
   "outputs": [],
   "source": [
    "import pandas as pd\n",
    "import numpy as np\n",
    "from datetime import date, timedelta\n",
    "\n",
    "import matplotlib.pyplot as plt\n",
    "import seaborn as sns\n",
    "from random import sample\n",
    "from sklearn.ensemble import RandomForestClassifier\n",
    "from sklearn.metrics import accuracy_score\n",
    "from sklearn.model_selection import train_test_split"
   ]
  },
  {
   "cell_type": "code",
   "execution_count": 2,
   "metadata": {},
   "outputs": [],
   "source": [
    "sns.set()"
   ]
  },
  {
   "cell_type": "markdown",
   "metadata": {},
   "source": [
    "# Read in data\n",
    "## Train data"
   ]
  },
  {
   "cell_type": "code",
   "execution_count": 3,
   "metadata": {},
   "outputs": [],
   "source": [
    "train_demo = pd.read_csv('../data/traindemographics.csv')\n",
    "train_prevloan = pd.read_csv('../data/trainprevloans.csv')\n",
    "train_perf = pd.read_csv('../data/trainperf.csv')"
   ]
  },
  {
   "cell_type": "markdown",
   "metadata": {},
   "source": [
    "## Test data\n"
   ]
  },
  {
   "cell_type": "code",
   "execution_count": 4,
   "metadata": {},
   "outputs": [],
   "source": [
    "test_demo = pd.read_csv('../data/testdemographics.csv')\n",
    "test_prevloan = pd.read_csv('../data/testprevloans.csv')\n",
    "test_perf = pd.read_csv('../data/testperf.csv')"
   ]
  },
  {
   "cell_type": "markdown",
   "metadata": {},
   "source": [
    "# Initial Inspection"
   ]
  },
  {
   "cell_type": "code",
   "execution_count": 5,
   "metadata": {},
   "outputs": [
    {
     "name": "stdout",
     "output_type": "stream",
     "text": [
      "<class 'pandas.core.frame.DataFrame'>\n",
      "RangeIndex: 4346 entries, 0 to 4345\n",
      "Data columns (total 9 columns):\n",
      "customerid                    4346 non-null object\n",
      "birthdate                     4346 non-null object\n",
      "bank_account_type             4346 non-null object\n",
      "longitude_gps                 4346 non-null float64\n",
      "latitude_gps                  4346 non-null float64\n",
      "bank_name_clients             4346 non-null object\n",
      "bank_branch_clients           51 non-null object\n",
      "employment_status_clients     3698 non-null object\n",
      "level_of_education_clients    587 non-null object\n",
      "dtypes: float64(2), object(7)\n",
      "memory usage: 305.7+ KB\n",
      "None\n"
     ]
    },
    {
     "data": {
      "text/html": [
       "<div>\n",
       "<style scoped>\n",
       "    .dataframe tbody tr th:only-of-type {\n",
       "        vertical-align: middle;\n",
       "    }\n",
       "\n",
       "    .dataframe tbody tr th {\n",
       "        vertical-align: top;\n",
       "    }\n",
       "\n",
       "    .dataframe thead th {\n",
       "        text-align: right;\n",
       "    }\n",
       "</style>\n",
       "<table border=\"1\" class=\"dataframe\">\n",
       "  <thead>\n",
       "    <tr style=\"text-align: right;\">\n",
       "      <th></th>\n",
       "      <th>customerid</th>\n",
       "      <th>birthdate</th>\n",
       "      <th>bank_account_type</th>\n",
       "      <th>longitude_gps</th>\n",
       "      <th>latitude_gps</th>\n",
       "      <th>bank_name_clients</th>\n",
       "      <th>bank_branch_clients</th>\n",
       "      <th>employment_status_clients</th>\n",
       "      <th>level_of_education_clients</th>\n",
       "    </tr>\n",
       "  </thead>\n",
       "  <tbody>\n",
       "    <tr>\n",
       "      <td>0</td>\n",
       "      <td>8a858e135cb22031015cbafc76964ebd</td>\n",
       "      <td>1973-10-10 00:00:00.000000</td>\n",
       "      <td>Savings</td>\n",
       "      <td>3.319219</td>\n",
       "      <td>6.528604</td>\n",
       "      <td>GT Bank</td>\n",
       "      <td>NaN</td>\n",
       "      <td>NaN</td>\n",
       "      <td>NaN</td>\n",
       "    </tr>\n",
       "    <tr>\n",
       "      <td>1</td>\n",
       "      <td>8a858e275c7ea5ec015c82482d7c3996</td>\n",
       "      <td>1986-01-21 00:00:00.000000</td>\n",
       "      <td>Savings</td>\n",
       "      <td>3.325598</td>\n",
       "      <td>7.119403</td>\n",
       "      <td>Sterling Bank</td>\n",
       "      <td>NaN</td>\n",
       "      <td>Permanent</td>\n",
       "      <td>NaN</td>\n",
       "    </tr>\n",
       "    <tr>\n",
       "      <td>2</td>\n",
       "      <td>8a858e5b5bd99460015bdc95cd485634</td>\n",
       "      <td>1987-04-01 00:00:00.000000</td>\n",
       "      <td>Savings</td>\n",
       "      <td>5.746100</td>\n",
       "      <td>5.563174</td>\n",
       "      <td>Fidelity Bank</td>\n",
       "      <td>NaN</td>\n",
       "      <td>NaN</td>\n",
       "      <td>NaN</td>\n",
       "    </tr>\n",
       "    <tr>\n",
       "      <td>3</td>\n",
       "      <td>8a858efd5ca70688015cabd1f1e94b55</td>\n",
       "      <td>1991-07-19 00:00:00.000000</td>\n",
       "      <td>Savings</td>\n",
       "      <td>3.362850</td>\n",
       "      <td>6.642485</td>\n",
       "      <td>GT Bank</td>\n",
       "      <td>NaN</td>\n",
       "      <td>Permanent</td>\n",
       "      <td>NaN</td>\n",
       "    </tr>\n",
       "    <tr>\n",
       "      <td>4</td>\n",
       "      <td>8a858e785acd3412015acd48f4920d04</td>\n",
       "      <td>1982-11-22 00:00:00.000000</td>\n",
       "      <td>Savings</td>\n",
       "      <td>8.455332</td>\n",
       "      <td>11.971410</td>\n",
       "      <td>GT Bank</td>\n",
       "      <td>NaN</td>\n",
       "      <td>Permanent</td>\n",
       "      <td>NaN</td>\n",
       "    </tr>\n",
       "  </tbody>\n",
       "</table>\n",
       "</div>"
      ],
      "text/plain": [
       "                         customerid                   birthdate  \\\n",
       "0  8a858e135cb22031015cbafc76964ebd  1973-10-10 00:00:00.000000   \n",
       "1  8a858e275c7ea5ec015c82482d7c3996  1986-01-21 00:00:00.000000   \n",
       "2  8a858e5b5bd99460015bdc95cd485634  1987-04-01 00:00:00.000000   \n",
       "3  8a858efd5ca70688015cabd1f1e94b55  1991-07-19 00:00:00.000000   \n",
       "4  8a858e785acd3412015acd48f4920d04  1982-11-22 00:00:00.000000   \n",
       "\n",
       "  bank_account_type  longitude_gps  latitude_gps bank_name_clients  \\\n",
       "0           Savings       3.319219      6.528604           GT Bank   \n",
       "1           Savings       3.325598      7.119403     Sterling Bank   \n",
       "2           Savings       5.746100      5.563174     Fidelity Bank   \n",
       "3           Savings       3.362850      6.642485           GT Bank   \n",
       "4           Savings       8.455332     11.971410           GT Bank   \n",
       "\n",
       "  bank_branch_clients employment_status_clients level_of_education_clients  \n",
       "0                 NaN                       NaN                        NaN  \n",
       "1                 NaN                 Permanent                        NaN  \n",
       "2                 NaN                       NaN                        NaN  \n",
       "3                 NaN                 Permanent                        NaN  \n",
       "4                 NaN                 Permanent                        NaN  "
      ]
     },
     "execution_count": 5,
     "metadata": {},
     "output_type": "execute_result"
    }
   ],
   "source": [
    "print(train_demo.info())\n",
    "train_demo.head()"
   ]
  },
  {
   "cell_type": "markdown",
   "metadata": {},
   "source": [
    "Demographic information\n",
    "\n",
    "- Get age from birth date\n",
    "- Categories for Bank account type\n",
    "- Categories for employment status\n",
    "- Categories for education level"
   ]
  },
  {
   "cell_type": "code",
   "execution_count": 6,
   "metadata": {},
   "outputs": [
    {
     "data": {
      "text/plain": [
       "0"
      ]
     },
     "execution_count": 6,
     "metadata": {},
     "output_type": "execute_result"
    }
   ],
   "source": [
    "train_demo.birthdate.isna().sum()"
   ]
  },
  {
   "cell_type": "code",
   "execution_count": 7,
   "metadata": {},
   "outputs": [
    {
     "name": "stdout",
     "output_type": "stream",
     "text": [
      "Graduate         420\n",
      "Secondary         89\n",
      "Post-Graduate     68\n",
      "Primary           10\n",
      "Name: level_of_education_clients, dtype: int64\n",
      "3759\n"
     ]
    }
   ],
   "source": [
    "print(train_demo.level_of_education_clients.value_counts())\n",
    "print(train_demo.level_of_education_clients.isna().sum())"
   ]
  },
  {
   "cell_type": "markdown",
   "metadata": {},
   "source": [
    "Level of education is generally unknown so may not be worth including in the model"
   ]
  },
  {
   "cell_type": "code",
   "execution_count": 8,
   "metadata": {},
   "outputs": [
    {
     "name": "stdout",
     "output_type": "stream",
     "text": [
      "Permanent        3146\n",
      "Self-Employed     348\n",
      "Student           142\n",
      "Unemployed         57\n",
      "Retired             4\n",
      "Contract            1\n",
      "Name: employment_status_clients, dtype: int64\n",
      "648\n",
      "Permanent        3146\n",
      "Unknown           648\n",
      "Self-Employed     348\n",
      "Student           142\n",
      "Unemployed         57\n",
      "Retired             4\n",
      "Contract            1\n",
      "Name: employment_status_clients, dtype: int64\n",
      "0\n"
     ]
    }
   ],
   "source": [
    "print(train_demo.employment_status_clients.value_counts())\n",
    "print(train_demo.employment_status_clients.isna().sum())\n",
    "\n",
    "train_demo['employment_status_clients'].replace(np.nan, \"Unknown\", inplace = True)\n",
    "test_demo['employment_status_clients'].replace(np.nan, \"Unknown\", inplace = True)\n",
    "\n",
    "print(train_demo.employment_status_clients.value_counts())\n",
    "print(train_demo.employment_status_clients.isna().sum())"
   ]
  },
  {
   "cell_type": "code",
   "execution_count": 9,
   "metadata": {},
   "outputs": [
    {
     "name": "stdout",
     "output_type": "stream",
     "text": [
      "Savings    3425\n",
      "Other       865\n",
      "Current      56\n",
      "Name: bank_account_type, dtype: int64\n",
      "0\n"
     ]
    }
   ],
   "source": [
    "print(train_demo.bank_account_type.value_counts())\n",
    "print(train_demo.bank_account_type.isna().sum())"
   ]
  },
  {
   "cell_type": "code",
   "execution_count": 10,
   "metadata": {},
   "outputs": [],
   "source": [
    "def demo_features(train_demo):\n",
    "    train_demo_cols = train_demo[['customerid']].copy(deep = True)\n",
    "    train_demo_cols['age'] =  date.today().year - pd.DatetimeIndex(train_demo['birthdate']).year\n",
    "    train_demo_cols = pd.concat([train_demo_cols, pd.get_dummies(train_demo['bank_account_type'], 'bank_account_type')], axis=1)\n",
    "    train_demo_cols = pd.concat([train_demo_cols, pd.get_dummies(train_demo['employment_status_clients'], 'employment_status_clients')], axis=1)\n",
    "\n",
    "    return train_demo_cols\n",
    "\n",
    "train_demo_cols = demo_features(train_demo)"
   ]
  },
  {
   "cell_type": "code",
   "execution_count": 11,
   "metadata": {},
   "outputs": [
    {
     "name": "stdout",
     "output_type": "stream",
     "text": [
      "<class 'pandas.core.frame.DataFrame'>\n",
      "RangeIndex: 18183 entries, 0 to 18182\n",
      "Data columns (total 12 columns):\n",
      "customerid         18183 non-null object\n",
      "systemloanid       18183 non-null int64\n",
      "loannumber         18183 non-null int64\n",
      "approveddate       18183 non-null object\n",
      "creationdate       18183 non-null object\n",
      "loanamount         18183 non-null float64\n",
      "totaldue           18183 non-null float64\n",
      "termdays           18183 non-null int64\n",
      "closeddate         18183 non-null object\n",
      "referredby         1026 non-null object\n",
      "firstduedate       18183 non-null object\n",
      "firstrepaiddate    18183 non-null object\n",
      "dtypes: float64(2), int64(3), object(7)\n",
      "memory usage: 1.7+ MB\n",
      "None\n"
     ]
    },
    {
     "data": {
      "text/html": [
       "<div>\n",
       "<style scoped>\n",
       "    .dataframe tbody tr th:only-of-type {\n",
       "        vertical-align: middle;\n",
       "    }\n",
       "\n",
       "    .dataframe tbody tr th {\n",
       "        vertical-align: top;\n",
       "    }\n",
       "\n",
       "    .dataframe thead th {\n",
       "        text-align: right;\n",
       "    }\n",
       "</style>\n",
       "<table border=\"1\" class=\"dataframe\">\n",
       "  <thead>\n",
       "    <tr style=\"text-align: right;\">\n",
       "      <th></th>\n",
       "      <th>customerid</th>\n",
       "      <th>systemloanid</th>\n",
       "      <th>loannumber</th>\n",
       "      <th>approveddate</th>\n",
       "      <th>creationdate</th>\n",
       "      <th>loanamount</th>\n",
       "      <th>totaldue</th>\n",
       "      <th>termdays</th>\n",
       "      <th>closeddate</th>\n",
       "      <th>referredby</th>\n",
       "      <th>firstduedate</th>\n",
       "      <th>firstrepaiddate</th>\n",
       "    </tr>\n",
       "  </thead>\n",
       "  <tbody>\n",
       "    <tr>\n",
       "      <td>0</td>\n",
       "      <td>8a2a81a74ce8c05d014cfb32a0da1049</td>\n",
       "      <td>301682320</td>\n",
       "      <td>2</td>\n",
       "      <td>2016-08-15 18:22:40.000000</td>\n",
       "      <td>2016-08-15 17:22:32.000000</td>\n",
       "      <td>10000.0</td>\n",
       "      <td>13000.0</td>\n",
       "      <td>30</td>\n",
       "      <td>2016-09-01 16:06:48.000000</td>\n",
       "      <td>NaN</td>\n",
       "      <td>2016-09-14 00:00:00.000000</td>\n",
       "      <td>2016-09-01 15:51:43.000000</td>\n",
       "    </tr>\n",
       "    <tr>\n",
       "      <td>1</td>\n",
       "      <td>8a2a81a74ce8c05d014cfb32a0da1049</td>\n",
       "      <td>301883808</td>\n",
       "      <td>9</td>\n",
       "      <td>2017-04-28 18:39:07.000000</td>\n",
       "      <td>2017-04-28 17:38:53.000000</td>\n",
       "      <td>10000.0</td>\n",
       "      <td>13000.0</td>\n",
       "      <td>30</td>\n",
       "      <td>2017-05-28 14:44:49.000000</td>\n",
       "      <td>NaN</td>\n",
       "      <td>2017-05-30 00:00:00.000000</td>\n",
       "      <td>2017-05-26 00:00:00.000000</td>\n",
       "    </tr>\n",
       "    <tr>\n",
       "      <td>2</td>\n",
       "      <td>8a2a81a74ce8c05d014cfb32a0da1049</td>\n",
       "      <td>301831714</td>\n",
       "      <td>8</td>\n",
       "      <td>2017-03-05 10:56:25.000000</td>\n",
       "      <td>2017-03-05 09:56:19.000000</td>\n",
       "      <td>20000.0</td>\n",
       "      <td>23800.0</td>\n",
       "      <td>30</td>\n",
       "      <td>2017-04-26 22:18:56.000000</td>\n",
       "      <td>NaN</td>\n",
       "      <td>2017-04-04 00:00:00.000000</td>\n",
       "      <td>2017-04-26 22:03:47.000000</td>\n",
       "    </tr>\n",
       "    <tr>\n",
       "      <td>3</td>\n",
       "      <td>8a8588f35438fe12015444567666018e</td>\n",
       "      <td>301861541</td>\n",
       "      <td>5</td>\n",
       "      <td>2017-04-09 18:25:55.000000</td>\n",
       "      <td>2017-04-09 17:25:42.000000</td>\n",
       "      <td>10000.0</td>\n",
       "      <td>11500.0</td>\n",
       "      <td>15</td>\n",
       "      <td>2017-04-24 01:35:52.000000</td>\n",
       "      <td>NaN</td>\n",
       "      <td>2017-04-24 00:00:00.000000</td>\n",
       "      <td>2017-04-24 00:48:43.000000</td>\n",
       "    </tr>\n",
       "    <tr>\n",
       "      <td>4</td>\n",
       "      <td>8a85890754145ace015429211b513e16</td>\n",
       "      <td>301941754</td>\n",
       "      <td>2</td>\n",
       "      <td>2017-06-17 09:29:57.000000</td>\n",
       "      <td>2017-06-17 08:29:50.000000</td>\n",
       "      <td>10000.0</td>\n",
       "      <td>11500.0</td>\n",
       "      <td>15</td>\n",
       "      <td>2017-07-14 21:18:43.000000</td>\n",
       "      <td>NaN</td>\n",
       "      <td>2017-07-03 00:00:00.000000</td>\n",
       "      <td>2017-07-14 21:08:35.000000</td>\n",
       "    </tr>\n",
       "  </tbody>\n",
       "</table>\n",
       "</div>"
      ],
      "text/plain": [
       "                         customerid  systemloanid  loannumber  \\\n",
       "0  8a2a81a74ce8c05d014cfb32a0da1049     301682320           2   \n",
       "1  8a2a81a74ce8c05d014cfb32a0da1049     301883808           9   \n",
       "2  8a2a81a74ce8c05d014cfb32a0da1049     301831714           8   \n",
       "3  8a8588f35438fe12015444567666018e     301861541           5   \n",
       "4  8a85890754145ace015429211b513e16     301941754           2   \n",
       "\n",
       "                 approveddate                creationdate  loanamount  \\\n",
       "0  2016-08-15 18:22:40.000000  2016-08-15 17:22:32.000000     10000.0   \n",
       "1  2017-04-28 18:39:07.000000  2017-04-28 17:38:53.000000     10000.0   \n",
       "2  2017-03-05 10:56:25.000000  2017-03-05 09:56:19.000000     20000.0   \n",
       "3  2017-04-09 18:25:55.000000  2017-04-09 17:25:42.000000     10000.0   \n",
       "4  2017-06-17 09:29:57.000000  2017-06-17 08:29:50.000000     10000.0   \n",
       "\n",
       "   totaldue  termdays                  closeddate referredby  \\\n",
       "0   13000.0        30  2016-09-01 16:06:48.000000        NaN   \n",
       "1   13000.0        30  2017-05-28 14:44:49.000000        NaN   \n",
       "2   23800.0        30  2017-04-26 22:18:56.000000        NaN   \n",
       "3   11500.0        15  2017-04-24 01:35:52.000000        NaN   \n",
       "4   11500.0        15  2017-07-14 21:18:43.000000        NaN   \n",
       "\n",
       "                 firstduedate             firstrepaiddate  \n",
       "0  2016-09-14 00:00:00.000000  2016-09-01 15:51:43.000000  \n",
       "1  2017-05-30 00:00:00.000000  2017-05-26 00:00:00.000000  \n",
       "2  2017-04-04 00:00:00.000000  2017-04-26 22:03:47.000000  \n",
       "3  2017-04-24 00:00:00.000000  2017-04-24 00:48:43.000000  \n",
       "4  2017-07-03 00:00:00.000000  2017-07-14 21:08:35.000000  "
      ]
     },
     "execution_count": 11,
     "metadata": {},
     "output_type": "execute_result"
    }
   ],
   "source": [
    "print(train_prevloan.info())\n",
    "train_prevloan.head()"
   ]
  },
  {
   "cell_type": "code",
   "execution_count": 12,
   "metadata": {},
   "outputs": [
    {
     "data": {
      "text/plain": [
       "customerid             0\n",
       "systemloanid           0\n",
       "loannumber             0\n",
       "approveddate           0\n",
       "creationdate           0\n",
       "loanamount             0\n",
       "totaldue               0\n",
       "termdays               0\n",
       "closeddate             0\n",
       "referredby         17157\n",
       "firstduedate           0\n",
       "firstrepaiddate        0\n",
       "dtype: int64"
      ]
     },
     "execution_count": 12,
     "metadata": {},
     "output_type": "execute_result"
    }
   ],
   "source": [
    "train_prevloan.isin([np.nan]).sum()"
   ]
  },
  {
   "cell_type": "markdown",
   "metadata": {},
   "source": [
    "Previous loan behviour\n",
    "\n",
    "- Mean loan amount\n",
    "- Number of loans taken\n",
    "\n",
    "\n",
    "- Times first payment past first due date\n",
    "- Times closed date after approveddate + termdays\n",
    "\n",
    "\n",
    "- Days between last loan and this one\n",
    "- Last loan on time\n",
    "- Last loan value"
   ]
  },
  {
   "cell_type": "code",
   "execution_count": 13,
   "metadata": {},
   "outputs": [
    {
     "data": {
      "text/html": [
       "<div>\n",
       "<style scoped>\n",
       "    .dataframe tbody tr th:only-of-type {\n",
       "        vertical-align: middle;\n",
       "    }\n",
       "\n",
       "    .dataframe tbody tr th {\n",
       "        vertical-align: top;\n",
       "    }\n",
       "\n",
       "    .dataframe thead th {\n",
       "        text-align: right;\n",
       "    }\n",
       "</style>\n",
       "<table border=\"1\" class=\"dataframe\">\n",
       "  <thead>\n",
       "    <tr style=\"text-align: right;\">\n",
       "      <th></th>\n",
       "      <th>customerid</th>\n",
       "      <th>avg_loanamount</th>\n",
       "      <th>total_missed_first_due_date</th>\n",
       "      <th>total_closed_loan_late</th>\n",
       "      <th>average_termdays</th>\n",
       "    </tr>\n",
       "  </thead>\n",
       "  <tbody>\n",
       "    <tr>\n",
       "      <td>0</td>\n",
       "      <td>8a1088a0484472eb01484669e3ce4e0b</td>\n",
       "      <td>10000.000000</td>\n",
       "      <td>1.0</td>\n",
       "      <td>1.0</td>\n",
       "      <td>15.000000</td>\n",
       "    </tr>\n",
       "    <tr>\n",
       "      <td>1</td>\n",
       "      <td>8a1a1e7e4f707f8b014f797718316cad</td>\n",
       "      <td>17500.000000</td>\n",
       "      <td>1.0</td>\n",
       "      <td>1.0</td>\n",
       "      <td>37.500000</td>\n",
       "    </tr>\n",
       "    <tr>\n",
       "      <td>2</td>\n",
       "      <td>8a1a32fc49b632520149c3b8fdf85139</td>\n",
       "      <td>12857.142857</td>\n",
       "      <td>1.0</td>\n",
       "      <td>1.0</td>\n",
       "      <td>19.285714</td>\n",
       "    </tr>\n",
       "    <tr>\n",
       "      <td>3</td>\n",
       "      <td>8a1eb5ba49a682300149c3c068b806c7</td>\n",
       "      <td>16250.000000</td>\n",
       "      <td>1.0</td>\n",
       "      <td>0.0</td>\n",
       "      <td>33.750000</td>\n",
       "    </tr>\n",
       "    <tr>\n",
       "      <td>4</td>\n",
       "      <td>8a1edbf14734127f0147356fdb1b1eb2</td>\n",
       "      <td>10000.000000</td>\n",
       "      <td>0.0</td>\n",
       "      <td>0.0</td>\n",
       "      <td>22.500000</td>\n",
       "    </tr>\n",
       "    <tr>\n",
       "      <td>...</td>\n",
       "      <td>...</td>\n",
       "      <td>...</td>\n",
       "      <td>...</td>\n",
       "      <td>...</td>\n",
       "      <td>...</td>\n",
       "    </tr>\n",
       "    <tr>\n",
       "      <td>4354</td>\n",
       "      <td>8a858fff5a28d297015a33bc2e845305</td>\n",
       "      <td>16666.666667</td>\n",
       "      <td>0.0</td>\n",
       "      <td>0.0</td>\n",
       "      <td>35.000000</td>\n",
       "    </tr>\n",
       "    <tr>\n",
       "      <td>4355</td>\n",
       "      <td>8a858fff5a36fe68015a37f8550a02a2</td>\n",
       "      <td>15000.000000</td>\n",
       "      <td>0.0</td>\n",
       "      <td>1.0</td>\n",
       "      <td>27.500000</td>\n",
       "    </tr>\n",
       "    <tr>\n",
       "      <td>4356</td>\n",
       "      <td>8a858fff5a36fe68015a3ac5851618ab</td>\n",
       "      <td>10000.000000</td>\n",
       "      <td>0.0</td>\n",
       "      <td>0.0</td>\n",
       "      <td>30.000000</td>\n",
       "    </tr>\n",
       "    <tr>\n",
       "      <td>4357</td>\n",
       "      <td>8a858fff5a36fe68015a3b8dcb8a3843</td>\n",
       "      <td>13333.333333</td>\n",
       "      <td>0.0</td>\n",
       "      <td>0.0</td>\n",
       "      <td>22.500000</td>\n",
       "    </tr>\n",
       "    <tr>\n",
       "      <td>4358</td>\n",
       "      <td>8a858fff5c79144c015c7bdbfc086ce1</td>\n",
       "      <td>10000.000000</td>\n",
       "      <td>0.0</td>\n",
       "      <td>0.0</td>\n",
       "      <td>30.000000</td>\n",
       "    </tr>\n",
       "  </tbody>\n",
       "</table>\n",
       "<p>4359 rows × 5 columns</p>\n",
       "</div>"
      ],
      "text/plain": [
       "                            customerid  avg_loanamount  \\\n",
       "0     8a1088a0484472eb01484669e3ce4e0b    10000.000000   \n",
       "1     8a1a1e7e4f707f8b014f797718316cad    17500.000000   \n",
       "2     8a1a32fc49b632520149c3b8fdf85139    12857.142857   \n",
       "3     8a1eb5ba49a682300149c3c068b806c7    16250.000000   \n",
       "4     8a1edbf14734127f0147356fdb1b1eb2    10000.000000   \n",
       "...                                ...             ...   \n",
       "4354  8a858fff5a28d297015a33bc2e845305    16666.666667   \n",
       "4355  8a858fff5a36fe68015a37f8550a02a2    15000.000000   \n",
       "4356  8a858fff5a36fe68015a3ac5851618ab    10000.000000   \n",
       "4357  8a858fff5a36fe68015a3b8dcb8a3843    13333.333333   \n",
       "4358  8a858fff5c79144c015c7bdbfc086ce1    10000.000000   \n",
       "\n",
       "      total_missed_first_due_date  total_closed_loan_late  average_termdays  \n",
       "0                             1.0                     1.0         15.000000  \n",
       "1                             1.0                     1.0         37.500000  \n",
       "2                             1.0                     1.0         19.285714  \n",
       "3                             1.0                     0.0         33.750000  \n",
       "4                             0.0                     0.0         22.500000  \n",
       "...                           ...                     ...               ...  \n",
       "4354                          0.0                     0.0         35.000000  \n",
       "4355                          0.0                     1.0         27.500000  \n",
       "4356                          0.0                     0.0         30.000000  \n",
       "4357                          0.0                     0.0         22.500000  \n",
       "4358                          0.0                     0.0         30.000000  \n",
       "\n",
       "[4359 rows x 5 columns]"
      ]
     },
     "execution_count": 13,
     "metadata": {},
     "output_type": "execute_result"
    }
   ],
   "source": [
    "def prevloan_features(train_prevloan):\n",
    "    train_prevloan_cols = train_prevloan.copy(deep = True)\n",
    "\n",
    "    train_prevloan_cols['firstrepaiddate'] = pd.to_datetime(train_prevloan_cols['firstrepaiddate']) \n",
    "    train_prevloan_cols['firstduedate'] = pd.to_datetime(train_prevloan_cols['firstduedate'])\n",
    "    train_prevloan_cols['missed_first_due_date'] = train_prevloan_cols['firstrepaiddate'].dt.date > train_prevloan_cols['firstduedate'].dt.date\n",
    "\n",
    "    train_prevloan_cols['closeddate'] = pd.to_datetime(train_prevloan_cols['closeddate'])\n",
    "    train_prevloan_cols['approveddate'] = pd.to_datetime(train_prevloan_cols['approveddate'])\n",
    "    train_prevloan_cols['termdays_td'] = pd.to_timedelta(train_prevloan_cols['termdays'], unit= 'days')\n",
    "    train_prevloan_cols['finalduedate'] = train_prevloan_cols['approveddate'] + train_prevloan_cols['termdays_td']\n",
    "    train_prevloan_cols['closed_loan_late'] = train_prevloan_cols['closeddate'].dt.date > train_prevloan_cols['finalduedate'].dt.date\n",
    "\n",
    "    train_prevloan_cols_grp = train_prevloan_cols[['customerid','loanamount', 'missed_first_due_date', 'closed_loan_late', 'termdays']]\n",
    "\n",
    "    train_prevloan_cols_grp_cols = train_prevloan_cols_grp.groupby('customerid', as_index = False).agg({'loanamount':'mean', 'missed_first_due_date': 'sum', 'closed_loan_late':'sum', 'termdays':'mean'})\n",
    "    train_prevloan_cols_grp_cols.rename( columns = {'loanamount': 'avg_loanamount', 'missed_first_due_date': 'total_missed_first_due_date', 'closed_loan_late':'total_closed_loan_late', 'termdays':'average_termdays'}   , inplace = True)\n",
    "\n",
    "    return train_prevloan_cols_grp_cols\n",
    "\n",
    "train_prevloan_cols_grp_cols = prevloan_features(train_prevloan)\n",
    "train_prevloan_cols_grp_cols"
   ]
  },
  {
   "cell_type": "code",
   "execution_count": 14,
   "metadata": {},
   "outputs": [
    {
     "name": "stdout",
     "output_type": "stream",
     "text": [
      "<class 'pandas.core.frame.DataFrame'>\n",
      "RangeIndex: 4368 entries, 0 to 4367\n",
      "Data columns (total 10 columns):\n",
      "customerid       4368 non-null object\n",
      "systemloanid     4368 non-null int64\n",
      "loannumber       4368 non-null int64\n",
      "approveddate     4368 non-null object\n",
      "creationdate     4368 non-null object\n",
      "loanamount       4368 non-null float64\n",
      "totaldue         4368 non-null float64\n",
      "termdays         4368 non-null int64\n",
      "referredby       587 non-null object\n",
      "good_bad_flag    4368 non-null object\n",
      "dtypes: float64(2), int64(3), object(5)\n",
      "memory usage: 341.4+ KB\n",
      "None\n"
     ]
    },
    {
     "data": {
      "text/html": [
       "<div>\n",
       "<style scoped>\n",
       "    .dataframe tbody tr th:only-of-type {\n",
       "        vertical-align: middle;\n",
       "    }\n",
       "\n",
       "    .dataframe tbody tr th {\n",
       "        vertical-align: top;\n",
       "    }\n",
       "\n",
       "    .dataframe thead th {\n",
       "        text-align: right;\n",
       "    }\n",
       "</style>\n",
       "<table border=\"1\" class=\"dataframe\">\n",
       "  <thead>\n",
       "    <tr style=\"text-align: right;\">\n",
       "      <th></th>\n",
       "      <th>customerid</th>\n",
       "      <th>systemloanid</th>\n",
       "      <th>loannumber</th>\n",
       "      <th>approveddate</th>\n",
       "      <th>creationdate</th>\n",
       "      <th>loanamount</th>\n",
       "      <th>totaldue</th>\n",
       "      <th>termdays</th>\n",
       "      <th>referredby</th>\n",
       "      <th>good_bad_flag</th>\n",
       "    </tr>\n",
       "  </thead>\n",
       "  <tbody>\n",
       "    <tr>\n",
       "      <td>0</td>\n",
       "      <td>8a2a81a74ce8c05d014cfb32a0da1049</td>\n",
       "      <td>301994762</td>\n",
       "      <td>12</td>\n",
       "      <td>2017-07-25 08:22:56.000000</td>\n",
       "      <td>2017-07-25 07:22:47.000000</td>\n",
       "      <td>30000.0</td>\n",
       "      <td>34500.0</td>\n",
       "      <td>30</td>\n",
       "      <td>NaN</td>\n",
       "      <td>Good</td>\n",
       "    </tr>\n",
       "    <tr>\n",
       "      <td>1</td>\n",
       "      <td>8a85886e54beabf90154c0a29ae757c0</td>\n",
       "      <td>301965204</td>\n",
       "      <td>2</td>\n",
       "      <td>2017-07-05 17:04:41.000000</td>\n",
       "      <td>2017-07-05 16:04:18.000000</td>\n",
       "      <td>15000.0</td>\n",
       "      <td>17250.0</td>\n",
       "      <td>30</td>\n",
       "      <td>NaN</td>\n",
       "      <td>Good</td>\n",
       "    </tr>\n",
       "    <tr>\n",
       "      <td>2</td>\n",
       "      <td>8a8588f35438fe12015444567666018e</td>\n",
       "      <td>301966580</td>\n",
       "      <td>7</td>\n",
       "      <td>2017-07-06 14:52:57.000000</td>\n",
       "      <td>2017-07-06 13:52:51.000000</td>\n",
       "      <td>20000.0</td>\n",
       "      <td>22250.0</td>\n",
       "      <td>15</td>\n",
       "      <td>NaN</td>\n",
       "      <td>Good</td>\n",
       "    </tr>\n",
       "    <tr>\n",
       "      <td>3</td>\n",
       "      <td>8a85890754145ace015429211b513e16</td>\n",
       "      <td>301999343</td>\n",
       "      <td>3</td>\n",
       "      <td>2017-07-27 19:00:41.000000</td>\n",
       "      <td>2017-07-27 18:00:35.000000</td>\n",
       "      <td>10000.0</td>\n",
       "      <td>11500.0</td>\n",
       "      <td>15</td>\n",
       "      <td>NaN</td>\n",
       "      <td>Good</td>\n",
       "    </tr>\n",
       "    <tr>\n",
       "      <td>4</td>\n",
       "      <td>8a858970548359cc0154883481981866</td>\n",
       "      <td>301962360</td>\n",
       "      <td>9</td>\n",
       "      <td>2017-07-03 23:42:45.000000</td>\n",
       "      <td>2017-07-03 22:42:39.000000</td>\n",
       "      <td>40000.0</td>\n",
       "      <td>44000.0</td>\n",
       "      <td>30</td>\n",
       "      <td>NaN</td>\n",
       "      <td>Good</td>\n",
       "    </tr>\n",
       "  </tbody>\n",
       "</table>\n",
       "</div>"
      ],
      "text/plain": [
       "                         customerid  systemloanid  loannumber  \\\n",
       "0  8a2a81a74ce8c05d014cfb32a0da1049     301994762          12   \n",
       "1  8a85886e54beabf90154c0a29ae757c0     301965204           2   \n",
       "2  8a8588f35438fe12015444567666018e     301966580           7   \n",
       "3  8a85890754145ace015429211b513e16     301999343           3   \n",
       "4  8a858970548359cc0154883481981866     301962360           9   \n",
       "\n",
       "                 approveddate                creationdate  loanamount  \\\n",
       "0  2017-07-25 08:22:56.000000  2017-07-25 07:22:47.000000     30000.0   \n",
       "1  2017-07-05 17:04:41.000000  2017-07-05 16:04:18.000000     15000.0   \n",
       "2  2017-07-06 14:52:57.000000  2017-07-06 13:52:51.000000     20000.0   \n",
       "3  2017-07-27 19:00:41.000000  2017-07-27 18:00:35.000000     10000.0   \n",
       "4  2017-07-03 23:42:45.000000  2017-07-03 22:42:39.000000     40000.0   \n",
       "\n",
       "   totaldue  termdays referredby good_bad_flag  \n",
       "0   34500.0        30        NaN          Good  \n",
       "1   17250.0        30        NaN          Good  \n",
       "2   22250.0        15        NaN          Good  \n",
       "3   11500.0        15        NaN          Good  \n",
       "4   44000.0        30        NaN          Good  "
      ]
     },
     "execution_count": 14,
     "metadata": {},
     "output_type": "execute_result"
    }
   ],
   "source": [
    "print(train_perf.info())\n",
    "train_perf.head()"
   ]
  },
  {
   "cell_type": "code",
   "execution_count": 15,
   "metadata": {},
   "outputs": [
    {
     "data": {
      "text/plain": [
       "customerid          0\n",
       "systemloanid        0\n",
       "loannumber          0\n",
       "approveddate        0\n",
       "creationdate        0\n",
       "loanamount          0\n",
       "totaldue            0\n",
       "termdays            0\n",
       "referredby       3781\n",
       "good_bad_flag       0\n",
       "dtype: int64"
      ]
     },
     "execution_count": 15,
     "metadata": {},
     "output_type": "execute_result"
    }
   ],
   "source": [
    "train_perf.isin([np.nan]).sum()"
   ]
  },
  {
   "cell_type": "code",
   "execution_count": 16,
   "metadata": {},
   "outputs": [
    {
     "data": {
      "text/plain": [
       "1    3416\n",
       "0     952\n",
       "Name: good_bad_ind, dtype: int64"
      ]
     },
     "execution_count": 16,
     "metadata": {},
     "output_type": "execute_result"
    }
   ],
   "source": [
    "train_perf['good_bad_ind'] = np.where(train_perf['good_bad_flag']==\"Good\", 1, 0)\n",
    "train_perf['good_bad_ind'].value_counts()"
   ]
  },
  {
   "cell_type": "markdown",
   "metadata": {},
   "source": [
    "Most people do not default on their loans\n",
    "\n",
    "Perf columns:\n",
    "\n",
    "- Total amount due \n",
    "- Loan number\n",
    "- Term days"
   ]
  },
  {
   "cell_type": "code",
   "execution_count": 17,
   "metadata": {},
   "outputs": [],
   "source": [
    "def perf_features(train_perf, train = True):\n",
    "    if train:\n",
    "        train_perf['good_bad_ind'] = np.where(train_perf['good_bad_flag']==\"Good\", 1, 0)\n",
    "        train_perf_cols = train_perf[['customerid', 'loannumber', 'loanamount', 'termdays', 'good_bad_ind']]\n",
    "    else:\n",
    "        train_perf_cols = train_perf[['customerid', 'loannumber', 'loanamount', 'termdays']]\n",
    "    return train_perf_cols\n",
    "\n",
    "\n",
    "train_perf_cols = perf_features(train_perf, train = True)"
   ]
  },
  {
   "cell_type": "markdown",
   "metadata": {},
   "source": [
    "# Make training dataset\n",
    "\n",
    "Some data will be lost due to the mismach in the number of rows in each of the tables, this should be investigated when time allows."
   ]
  },
  {
   "cell_type": "code",
   "execution_count": 18,
   "metadata": {},
   "outputs": [
    {
     "data": {
      "text/html": [
       "<div>\n",
       "<style scoped>\n",
       "    .dataframe tbody tr th:only-of-type {\n",
       "        vertical-align: middle;\n",
       "    }\n",
       "\n",
       "    .dataframe tbody tr th {\n",
       "        vertical-align: top;\n",
       "    }\n",
       "\n",
       "    .dataframe thead th {\n",
       "        text-align: right;\n",
       "    }\n",
       "</style>\n",
       "<table border=\"1\" class=\"dataframe\">\n",
       "  <thead>\n",
       "    <tr style=\"text-align: right;\">\n",
       "      <th></th>\n",
       "      <th>customerid</th>\n",
       "      <th>loannumber</th>\n",
       "      <th>loanamount</th>\n",
       "      <th>termdays</th>\n",
       "      <th>good_bad_ind</th>\n",
       "      <th>age</th>\n",
       "      <th>bank_account_type_Current</th>\n",
       "      <th>bank_account_type_Other</th>\n",
       "      <th>bank_account_type_Savings</th>\n",
       "      <th>employment_status_clients_Contract</th>\n",
       "      <th>employment_status_clients_Permanent</th>\n",
       "      <th>employment_status_clients_Retired</th>\n",
       "      <th>employment_status_clients_Self-Employed</th>\n",
       "      <th>employment_status_clients_Student</th>\n",
       "      <th>employment_status_clients_Unemployed</th>\n",
       "      <th>employment_status_clients_Unknown</th>\n",
       "      <th>avg_loanamount</th>\n",
       "      <th>total_missed_first_due_date</th>\n",
       "      <th>total_closed_loan_late</th>\n",
       "      <th>average_termdays</th>\n",
       "    </tr>\n",
       "  </thead>\n",
       "  <tbody>\n",
       "    <tr>\n",
       "      <td>0</td>\n",
       "      <td>8a2a81a74ce8c05d014cfb32a0da1049</td>\n",
       "      <td>12</td>\n",
       "      <td>30000.0</td>\n",
       "      <td>30</td>\n",
       "      <td>1</td>\n",
       "      <td>48</td>\n",
       "      <td>0</td>\n",
       "      <td>1</td>\n",
       "      <td>0</td>\n",
       "      <td>0</td>\n",
       "      <td>1</td>\n",
       "      <td>0</td>\n",
       "      <td>0</td>\n",
       "      <td>0</td>\n",
       "      <td>0</td>\n",
       "      <td>0</td>\n",
       "      <td>18181.818182</td>\n",
       "      <td>3.0</td>\n",
       "      <td>4.0</td>\n",
       "      <td>30.0</td>\n",
       "    </tr>\n",
       "    <tr>\n",
       "      <td>1</td>\n",
       "      <td>8a8588f35438fe12015444567666018e</td>\n",
       "      <td>7</td>\n",
       "      <td>20000.0</td>\n",
       "      <td>15</td>\n",
       "      <td>1</td>\n",
       "      <td>36</td>\n",
       "      <td>0</td>\n",
       "      <td>1</td>\n",
       "      <td>0</td>\n",
       "      <td>0</td>\n",
       "      <td>1</td>\n",
       "      <td>0</td>\n",
       "      <td>0</td>\n",
       "      <td>0</td>\n",
       "      <td>0</td>\n",
       "      <td>0</td>\n",
       "      <td>10000.000000</td>\n",
       "      <td>1.0</td>\n",
       "      <td>1.0</td>\n",
       "      <td>17.5</td>\n",
       "    </tr>\n",
       "    <tr>\n",
       "      <td>2</td>\n",
       "      <td>8a85890754145ace015429211b513e16</td>\n",
       "      <td>3</td>\n",
       "      <td>10000.0</td>\n",
       "      <td>15</td>\n",
       "      <td>1</td>\n",
       "      <td>43</td>\n",
       "      <td>0</td>\n",
       "      <td>0</td>\n",
       "      <td>1</td>\n",
       "      <td>0</td>\n",
       "      <td>1</td>\n",
       "      <td>0</td>\n",
       "      <td>0</td>\n",
       "      <td>0</td>\n",
       "      <td>0</td>\n",
       "      <td>0</td>\n",
       "      <td>10000.000000</td>\n",
       "      <td>2.0</td>\n",
       "      <td>2.0</td>\n",
       "      <td>22.5</td>\n",
       "    </tr>\n",
       "    <tr>\n",
       "      <td>3</td>\n",
       "      <td>8a858970548359cc0154883481981866</td>\n",
       "      <td>9</td>\n",
       "      <td>40000.0</td>\n",
       "      <td>30</td>\n",
       "      <td>1</td>\n",
       "      <td>34</td>\n",
       "      <td>0</td>\n",
       "      <td>1</td>\n",
       "      <td>0</td>\n",
       "      <td>0</td>\n",
       "      <td>1</td>\n",
       "      <td>0</td>\n",
       "      <td>0</td>\n",
       "      <td>0</td>\n",
       "      <td>0</td>\n",
       "      <td>0</td>\n",
       "      <td>18750.000000</td>\n",
       "      <td>0.0</td>\n",
       "      <td>0.0</td>\n",
       "      <td>37.5</td>\n",
       "    </tr>\n",
       "    <tr>\n",
       "      <td>4</td>\n",
       "      <td>8a858e095c59b91b015c5e5cea3719bc</td>\n",
       "      <td>3</td>\n",
       "      <td>10000.0</td>\n",
       "      <td>30</td>\n",
       "      <td>1</td>\n",
       "      <td>31</td>\n",
       "      <td>0</td>\n",
       "      <td>0</td>\n",
       "      <td>1</td>\n",
       "      <td>0</td>\n",
       "      <td>1</td>\n",
       "      <td>0</td>\n",
       "      <td>0</td>\n",
       "      <td>0</td>\n",
       "      <td>0</td>\n",
       "      <td>0</td>\n",
       "      <td>10000.000000</td>\n",
       "      <td>0.0</td>\n",
       "      <td>0.0</td>\n",
       "      <td>22.5</td>\n",
       "    </tr>\n",
       "    <tr>\n",
       "      <td>...</td>\n",
       "      <td>...</td>\n",
       "      <td>...</td>\n",
       "      <td>...</td>\n",
       "      <td>...</td>\n",
       "      <td>...</td>\n",
       "      <td>...</td>\n",
       "      <td>...</td>\n",
       "      <td>...</td>\n",
       "      <td>...</td>\n",
       "      <td>...</td>\n",
       "      <td>...</td>\n",
       "      <td>...</td>\n",
       "      <td>...</td>\n",
       "      <td>...</td>\n",
       "      <td>...</td>\n",
       "      <td>...</td>\n",
       "      <td>...</td>\n",
       "      <td>...</td>\n",
       "      <td>...</td>\n",
       "      <td>...</td>\n",
       "    </tr>\n",
       "    <tr>\n",
       "      <td>3267</td>\n",
       "      <td>8a858e395cb1d4d9015cb2115b1d13d7</td>\n",
       "      <td>2</td>\n",
       "      <td>10000.0</td>\n",
       "      <td>15</td>\n",
       "      <td>0</td>\n",
       "      <td>41</td>\n",
       "      <td>0</td>\n",
       "      <td>0</td>\n",
       "      <td>1</td>\n",
       "      <td>0</td>\n",
       "      <td>0</td>\n",
       "      <td>0</td>\n",
       "      <td>0</td>\n",
       "      <td>0</td>\n",
       "      <td>0</td>\n",
       "      <td>1</td>\n",
       "      <td>10000.000000</td>\n",
       "      <td>0.0</td>\n",
       "      <td>1.0</td>\n",
       "      <td>15.0</td>\n",
       "    </tr>\n",
       "    <tr>\n",
       "      <td>3268</td>\n",
       "      <td>8a858ee85cf400f5015cf44ab1c42d5c</td>\n",
       "      <td>2</td>\n",
       "      <td>10000.0</td>\n",
       "      <td>30</td>\n",
       "      <td>0</td>\n",
       "      <td>31</td>\n",
       "      <td>0</td>\n",
       "      <td>0</td>\n",
       "      <td>1</td>\n",
       "      <td>0</td>\n",
       "      <td>1</td>\n",
       "      <td>0</td>\n",
       "      <td>0</td>\n",
       "      <td>0</td>\n",
       "      <td>0</td>\n",
       "      <td>0</td>\n",
       "      <td>10000.000000</td>\n",
       "      <td>0.0</td>\n",
       "      <td>0.0</td>\n",
       "      <td>30.0</td>\n",
       "    </tr>\n",
       "    <tr>\n",
       "      <td>3269</td>\n",
       "      <td>8a858f365b2547f3015b284597147c94</td>\n",
       "      <td>3</td>\n",
       "      <td>10000.0</td>\n",
       "      <td>15</td>\n",
       "      <td>0</td>\n",
       "      <td>31</td>\n",
       "      <td>0</td>\n",
       "      <td>0</td>\n",
       "      <td>1</td>\n",
       "      <td>0</td>\n",
       "      <td>1</td>\n",
       "      <td>0</td>\n",
       "      <td>0</td>\n",
       "      <td>0</td>\n",
       "      <td>0</td>\n",
       "      <td>0</td>\n",
       "      <td>10000.000000</td>\n",
       "      <td>1.0</td>\n",
       "      <td>1.0</td>\n",
       "      <td>15.0</td>\n",
       "    </tr>\n",
       "    <tr>\n",
       "      <td>3270</td>\n",
       "      <td>8a858f935ca09667015ca0ee3bc63f51</td>\n",
       "      <td>2</td>\n",
       "      <td>10000.0</td>\n",
       "      <td>30</td>\n",
       "      <td>0</td>\n",
       "      <td>30</td>\n",
       "      <td>0</td>\n",
       "      <td>0</td>\n",
       "      <td>1</td>\n",
       "      <td>0</td>\n",
       "      <td>1</td>\n",
       "      <td>0</td>\n",
       "      <td>0</td>\n",
       "      <td>0</td>\n",
       "      <td>0</td>\n",
       "      <td>0</td>\n",
       "      <td>10000.000000</td>\n",
       "      <td>0.0</td>\n",
       "      <td>0.0</td>\n",
       "      <td>30.0</td>\n",
       "    </tr>\n",
       "    <tr>\n",
       "      <td>3271</td>\n",
       "      <td>8a858fd458639fcc015868eb14b542ad</td>\n",
       "      <td>8</td>\n",
       "      <td>30000.0</td>\n",
       "      <td>30</td>\n",
       "      <td>0</td>\n",
       "      <td>32</td>\n",
       "      <td>0</td>\n",
       "      <td>0</td>\n",
       "      <td>1</td>\n",
       "      <td>0</td>\n",
       "      <td>0</td>\n",
       "      <td>0</td>\n",
       "      <td>0</td>\n",
       "      <td>0</td>\n",
       "      <td>0</td>\n",
       "      <td>1</td>\n",
       "      <td>18571.428571</td>\n",
       "      <td>0.0</td>\n",
       "      <td>0.0</td>\n",
       "      <td>30.0</td>\n",
       "    </tr>\n",
       "  </tbody>\n",
       "</table>\n",
       "<p>3272 rows × 20 columns</p>\n",
       "</div>"
      ],
      "text/plain": [
       "                            customerid  loannumber  loanamount  termdays  \\\n",
       "0     8a2a81a74ce8c05d014cfb32a0da1049          12     30000.0        30   \n",
       "1     8a8588f35438fe12015444567666018e           7     20000.0        15   \n",
       "2     8a85890754145ace015429211b513e16           3     10000.0        15   \n",
       "3     8a858970548359cc0154883481981866           9     40000.0        30   \n",
       "4     8a858e095c59b91b015c5e5cea3719bc           3     10000.0        30   \n",
       "...                                ...         ...         ...       ...   \n",
       "3267  8a858e395cb1d4d9015cb2115b1d13d7           2     10000.0        15   \n",
       "3268  8a858ee85cf400f5015cf44ab1c42d5c           2     10000.0        30   \n",
       "3269  8a858f365b2547f3015b284597147c94           3     10000.0        15   \n",
       "3270  8a858f935ca09667015ca0ee3bc63f51           2     10000.0        30   \n",
       "3271  8a858fd458639fcc015868eb14b542ad           8     30000.0        30   \n",
       "\n",
       "      good_bad_ind  age  bank_account_type_Current  bank_account_type_Other  \\\n",
       "0                1   48                          0                        1   \n",
       "1                1   36                          0                        1   \n",
       "2                1   43                          0                        0   \n",
       "3                1   34                          0                        1   \n",
       "4                1   31                          0                        0   \n",
       "...            ...  ...                        ...                      ...   \n",
       "3267             0   41                          0                        0   \n",
       "3268             0   31                          0                        0   \n",
       "3269             0   31                          0                        0   \n",
       "3270             0   30                          0                        0   \n",
       "3271             0   32                          0                        0   \n",
       "\n",
       "      bank_account_type_Savings  employment_status_clients_Contract  \\\n",
       "0                             0                                   0   \n",
       "1                             0                                   0   \n",
       "2                             1                                   0   \n",
       "3                             0                                   0   \n",
       "4                             1                                   0   \n",
       "...                         ...                                 ...   \n",
       "3267                          1                                   0   \n",
       "3268                          1                                   0   \n",
       "3269                          1                                   0   \n",
       "3270                          1                                   0   \n",
       "3271                          1                                   0   \n",
       "\n",
       "      employment_status_clients_Permanent  employment_status_clients_Retired  \\\n",
       "0                                       1                                  0   \n",
       "1                                       1                                  0   \n",
       "2                                       1                                  0   \n",
       "3                                       1                                  0   \n",
       "4                                       1                                  0   \n",
       "...                                   ...                                ...   \n",
       "3267                                    0                                  0   \n",
       "3268                                    1                                  0   \n",
       "3269                                    1                                  0   \n",
       "3270                                    1                                  0   \n",
       "3271                                    0                                  0   \n",
       "\n",
       "      employment_status_clients_Self-Employed  \\\n",
       "0                                           0   \n",
       "1                                           0   \n",
       "2                                           0   \n",
       "3                                           0   \n",
       "4                                           0   \n",
       "...                                       ...   \n",
       "3267                                        0   \n",
       "3268                                        0   \n",
       "3269                                        0   \n",
       "3270                                        0   \n",
       "3271                                        0   \n",
       "\n",
       "      employment_status_clients_Student  employment_status_clients_Unemployed  \\\n",
       "0                                     0                                     0   \n",
       "1                                     0                                     0   \n",
       "2                                     0                                     0   \n",
       "3                                     0                                     0   \n",
       "4                                     0                                     0   \n",
       "...                                 ...                                   ...   \n",
       "3267                                  0                                     0   \n",
       "3268                                  0                                     0   \n",
       "3269                                  0                                     0   \n",
       "3270                                  0                                     0   \n",
       "3271                                  0                                     0   \n",
       "\n",
       "      employment_status_clients_Unknown  avg_loanamount  \\\n",
       "0                                     0    18181.818182   \n",
       "1                                     0    10000.000000   \n",
       "2                                     0    10000.000000   \n",
       "3                                     0    18750.000000   \n",
       "4                                     0    10000.000000   \n",
       "...                                 ...             ...   \n",
       "3267                                  1    10000.000000   \n",
       "3268                                  0    10000.000000   \n",
       "3269                                  0    10000.000000   \n",
       "3270                                  0    10000.000000   \n",
       "3271                                  1    18571.428571   \n",
       "\n",
       "      total_missed_first_due_date  total_closed_loan_late  average_termdays  \n",
       "0                             3.0                     4.0              30.0  \n",
       "1                             1.0                     1.0              17.5  \n",
       "2                             2.0                     2.0              22.5  \n",
       "3                             0.0                     0.0              37.5  \n",
       "4                             0.0                     0.0              22.5  \n",
       "...                           ...                     ...               ...  \n",
       "3267                          0.0                     1.0              15.0  \n",
       "3268                          0.0                     0.0              30.0  \n",
       "3269                          1.0                     1.0              15.0  \n",
       "3270                          0.0                     0.0              30.0  \n",
       "3271                          0.0                     0.0              30.0  \n",
       "\n",
       "[3272 rows x 20 columns]"
      ]
     },
     "execution_count": 18,
     "metadata": {},
     "output_type": "execute_result"
    }
   ],
   "source": [
    "def merge_sets(train_perf_cols, train_demo_cols, train_prevloan_cols_grp_cols):\n",
    "    \n",
    "    train = pd.merge(train_perf_cols, train_demo_cols, how ='inner', left_on='customerid', right_on='customerid')\n",
    "    train = pd.merge(train, train_prevloan_cols_grp_cols, how ='inner', left_on='customerid', right_on='customerid')\n",
    "    return train\n",
    "\n",
    "train = merge_sets(train_perf_cols, train_demo_cols, train_prevloan_cols_grp_cols)\n",
    "train"
   ]
  },
  {
   "cell_type": "code",
   "execution_count": 19,
   "metadata": {},
   "outputs": [
    {
     "data": {
      "text/plain": [
       "customerid                                 0\n",
       "loannumber                                 0\n",
       "loanamount                                 0\n",
       "termdays                                   0\n",
       "good_bad_ind                               0\n",
       "age                                        0\n",
       "bank_account_type_Current                  0\n",
       "bank_account_type_Other                    0\n",
       "bank_account_type_Savings                  0\n",
       "employment_status_clients_Contract         0\n",
       "employment_status_clients_Permanent        0\n",
       "employment_status_clients_Retired          0\n",
       "employment_status_clients_Self-Employed    0\n",
       "employment_status_clients_Student          0\n",
       "employment_status_clients_Unemployed       0\n",
       "employment_status_clients_Unknown          0\n",
       "avg_loanamount                             0\n",
       "total_missed_first_due_date                0\n",
       "total_closed_loan_late                     0\n",
       "average_termdays                           0\n",
       "dtype: int64"
      ]
     },
     "execution_count": 19,
     "metadata": {},
     "output_type": "execute_result"
    }
   ],
   "source": [
    "train.isin([np.nan]).sum()"
   ]
  },
  {
   "cell_type": "code",
   "execution_count": 20,
   "metadata": {},
   "outputs": [
    {
     "data": {
      "text/plain": [
       "Index(['customerid', 'loannumber', 'loanamount', 'termdays', 'good_bad_ind',\n",
       "       'age', 'bank_account_type_Current', 'bank_account_type_Other',\n",
       "       'bank_account_type_Savings', 'employment_status_clients_Contract',\n",
       "       'employment_status_clients_Permanent',\n",
       "       'employment_status_clients_Retired',\n",
       "       'employment_status_clients_Self-Employed',\n",
       "       'employment_status_clients_Student',\n",
       "       'employment_status_clients_Unemployed',\n",
       "       'employment_status_clients_Unknown', 'avg_loanamount',\n",
       "       'total_missed_first_due_date', 'total_closed_loan_late',\n",
       "       'average_termdays'],\n",
       "      dtype='object')"
      ]
     },
     "execution_count": 20,
     "metadata": {},
     "output_type": "execute_result"
    }
   ],
   "source": [
    "train.columns"
   ]
  },
  {
   "cell_type": "markdown",
   "metadata": {},
   "source": [
    "# Data analysis"
   ]
  },
  {
   "cell_type": "code",
   "execution_count": 21,
   "metadata": {},
   "outputs": [],
   "source": [
    "data = train.copy(deep = True)"
   ]
  },
  {
   "cell_type": "code",
   "execution_count": 22,
   "metadata": {},
   "outputs": [
    {
     "name": "stdout",
     "output_type": "stream",
     "text": [
      "bank_account_type_Current      46\n",
      "bank_account_type_Other       653\n",
      "bank_account_type_Savings    2573\n",
      "dtype: int64\n",
      "Current that default:  0.10869565217391308\n",
      "Other that default:  0.13476263399693722\n",
      "Savings that default:  0.2405752040419743\n"
     ]
    }
   ],
   "source": [
    "# How many of each account type are there\n",
    "\n",
    "print(data[['bank_account_type_Current','bank_account_type_Other','bank_account_type_Savings']].sum())\n",
    "\n",
    "# What percent in each category default\n",
    "curr = data[data['bank_account_type_Current']==1]\n",
    "print('Current that default: ', 1-curr['good_bad_ind'].mean())\n",
    "\n",
    "other = data[data['bank_account_type_Other']==1]\n",
    "print('Other that default: ', 1-other['good_bad_ind'].mean())\n",
    "\n",
    "savings = data[data['bank_account_type_Savings']==1]\n",
    "print('Savings that default: ', 1-savings['good_bad_ind'].mean())\n"
   ]
  },
  {
   "cell_type": "markdown",
   "metadata": {},
   "source": [
    "Loans are taken most often on customers with saving accounts.\n",
    "Savings are the biggest group and they have the highest proportion of defaulted loans"
   ]
  },
  {
   "cell_type": "code",
   "execution_count": 23,
   "metadata": {},
   "outputs": [
    {
     "name": "stdout",
     "output_type": "stream",
     "text": [
      "employment_status_clients_Contract            1\n",
      "employment_status_clients_Permanent        2343\n",
      "employment_status_clients_Retired             4\n",
      "employment_status_clients_Self-Employed     277\n",
      "employment_status_clients_Student           111\n",
      "employment_status_clients_Unemployed         43\n",
      "dtype: int64\n",
      "Perm that default:  0.0\n",
      "Perm that default:  0.20486555697823305\n",
      "Retired that default:  0.0\n",
      "Self that default:  0.16245487364620936\n",
      "Student that default:  0.2702702702702703\n",
      "Unemp that default:  0.16279069767441856\n"
     ]
    }
   ],
   "source": [
    "# How many of each category type are there\n",
    "\n",
    "print(data[['employment_status_clients_Contract',\n",
    "            'employment_status_clients_Permanent',\n",
    "            'employment_status_clients_Retired',\n",
    "            'employment_status_clients_Self-Employed',\n",
    "            'employment_status_clients_Student',\n",
    "            'employment_status_clients_Unemployed']].sum())\n",
    "\n",
    "# What percent in each category default\n",
    "cont = data[data['employment_status_clients_Contract']==1]\n",
    "print('Perm that default: ', 1-cont['good_bad_ind'].mean())\n",
    "\n",
    "perm = data[data['employment_status_clients_Permanent']==1]\n",
    "print('Perm that default: ', 1-perm['good_bad_ind'].mean())\n",
    "\n",
    "ret = data[data['employment_status_clients_Retired']==1]\n",
    "print('Retired that default: ', 1-ret['good_bad_ind'].mean())\n",
    "\n",
    "self = data[data['employment_status_clients_Self-Employed']==1]\n",
    "print('Self that default: ', 1-self['good_bad_ind'].mean())\n",
    "\n",
    "stud = data[data['employment_status_clients_Student']==1]\n",
    "print('Student that default: ', 1-stud['good_bad_ind'].mean())\n",
    "\n",
    "unemp = data[data['employment_status_clients_Unemployed']==1]\n",
    "print('Unemp that default: ', 1-unemp['good_bad_ind'].mean())"
   ]
  },
  {
   "cell_type": "markdown",
   "metadata": {},
   "source": [
    "Most clients are permanent. Students default the most often, with permanent staff coming in next"
   ]
  },
  {
   "cell_type": "code",
   "execution_count": 24,
   "metadata": {},
   "outputs": [
    {
     "data": {
      "text/plain": [
       "<matplotlib.axes._subplots.AxesSubplot at 0x1a1d80e210>"
      ]
     },
     "execution_count": 24,
     "metadata": {},
     "output_type": "execute_result"
    },
    {
     "data": {
      "image/png": "[encoded data removed]",
      "text/plain": [
       "<Figure size 432x288 with 1 Axes>"
      ]
     },
     "metadata": {},
     "output_type": "display_data"
    }
   ],
   "source": [
    "sns.boxplot(data = data, y='total_closed_loan_late', x ='good_bad_ind')"
   ]
  },
  {
   "cell_type": "code",
   "execution_count": 25,
   "metadata": {},
   "outputs": [
    {
     "data": {
      "text/plain": [
       "<matplotlib.axes._subplots.AxesSubplot at 0x1a1dca6ed0>"
      ]
     },
     "execution_count": 25,
     "metadata": {},
     "output_type": "execute_result"
    },
    {
     "data": {
      "image/png": "[encoded data removed]",
      "text/plain": [
       "<Figure size 432x288 with 1 Axes>"
      ]
     },
     "metadata": {},
     "output_type": "display_data"
    }
   ],
   "source": [
    "sns.boxplot(data = data, y='loannumber', x ='good_bad_ind')"
   ]
  },
  {
   "cell_type": "code",
   "execution_count": 26,
   "metadata": {},
   "outputs": [
    {
     "data": {
      "text/plain": [
       "<matplotlib.axes._subplots.AxesSubplot at 0x1a1d722b10>"
      ]
     },
     "execution_count": 26,
     "metadata": {},
     "output_type": "execute_result"
    },
    {
     "data": {
      "image/png": "[encoded data removed]",
      "text/plain": [
       "<Figure size 432x288 with 1 Axes>"
      ]
     },
     "metadata": {},
     "output_type": "display_data"
    }
   ],
   "source": [
    "sns.boxplot(data = data, y='age', x ='good_bad_ind')"
   ]
  },
  {
   "cell_type": "code",
   "execution_count": 27,
   "metadata": {},
   "outputs": [
    {
     "data": {
      "text/plain": [
       "<matplotlib.axes._subplots.AxesSubplot at 0x1a1dd12110>"
      ]
     },
     "execution_count": 27,
     "metadata": {},
     "output_type": "execute_result"
    },
    {
     "data": {
      "image/png": "[encoded data removed]",
      "text/plain": [
       "<Figure size 1080x576 with 1 Axes>"
      ]
     },
     "metadata": {},
     "output_type": "display_data"
    }
   ],
   "source": [
    "data[\"employment_status\"] = data[['employment_status_clients_Contract',\n",
    "            'employment_status_clients_Permanent',\n",
    "            'employment_status_clients_Retired',\n",
    "            'employment_status_clients_Self-Employed',\n",
    "            'employment_status_clients_Student',\n",
    "            'employment_status_clients_Unemployed']].idxmax(axis=1)\n",
    "\n",
    "\n",
    "\n",
    "fig, axs = plt.subplots(1,1,figsize=(15,8))\n",
    "axs.set_xticklabels(['employment_status_clients_Contract',\n",
    "            'employment_status_clients_Permanent',\n",
    "            'employment_status_clients_Retired',\n",
    "            'employment_status_clients_Self-Employed',\n",
    "            'employment_status_clients_Student',\n",
    "            'employment_status_clients_Unemployed'], rotation=45)\n",
    "sns.boxplot(data = data, y='age', x ='employment_status', hue = 'good_bad_ind')"
   ]
  },
  {
   "cell_type": "code",
   "execution_count": 29,
   "metadata": {},
   "outputs": [
    {
     "data": {
      "text/plain": [
       "[Text(0, 0, 'employment_status_clients_Contract'),\n",
       " Text(0, 0, 'employment_status_clients_Permanent'),\n",
       " Text(0, 0, 'employment_status_clients_Retired'),\n",
       " Text(0, 0, 'employment_status_clients_Self-Employed'),\n",
       " Text(0, 0, 'employment_status_clients_Student'),\n",
       " Text(0, 0, 'employment_status_clients_Unemployed')]"
      ]
     },
     "execution_count": 29,
     "metadata": {},
     "output_type": "execute_result"
    },
    {
     "data": {
      "image/png": "[encoded data removed]",
      "text/plain": [
       "<Figure size 1080x576 with 1 Axes>"
      ]
     },
     "metadata": {},
     "output_type": "display_data"
    }
   ],
   "source": [
    "fig, axs = plt.subplots(1,1,figsize=(15,8))\n",
    "gb = data[['termdays', 'employment_status', 'good_bad_ind']].groupby(['employment_status', 'termdays']).mean().reset_index()\n",
    "sns.barplot(data = gb, x= 'employment_status', y = 'good_bad_ind',  hue = 'termdays')\n",
    "\n",
    "axs.set_xticklabels(['employment_status_clients_Contract',\n",
    "            'employment_status_clients_Permanent',\n",
    "            'employment_status_clients_Retired',\n",
    "            'employment_status_clients_Self-Employed',\n",
    "            'employment_status_clients_Student',\n",
    "            'employment_status_clients_Unemployed'], rotation=45)"
   ]
  },
  {
   "cell_type": "code",
   "execution_count": 30,
   "metadata": {},
   "outputs": [
    {
     "data": {
      "text/plain": [
       "<matplotlib.axes._subplots.AxesSubplot at 0x1a1ec78490>"
      ]
     },
     "execution_count": 30,
     "metadata": {},
     "output_type": "execute_result"
    },
    {
     "data": {
      "image/png": "[encoded data removed]",
      "text/plain": [
       "<Figure size 1080x576 with 1 Axes>"
      ]
     },
     "metadata": {},
     "output_type": "display_data"
    }
   ],
   "source": [
    "fig, axs = plt.subplots(1,1,figsize=(15,8))\n",
    "sns.boxplot(data = data, y='avg_loanamount', x ='termdays', hue = 'good_bad_ind')"
   ]
  },
  {
   "cell_type": "code",
   "execution_count": 31,
   "metadata": {},
   "outputs": [
    {
     "data": {
      "text/html": [
       "<div>\n",
       "<style scoped>\n",
       "    .dataframe tbody tr th:only-of-type {\n",
       "        vertical-align: middle;\n",
       "    }\n",
       "\n",
       "    .dataframe tbody tr th {\n",
       "        vertical-align: top;\n",
       "    }\n",
       "\n",
       "    .dataframe thead th {\n",
       "        text-align: right;\n",
       "    }\n",
       "</style>\n",
       "<table border=\"1\" class=\"dataframe\">\n",
       "  <thead>\n",
       "    <tr style=\"text-align: right;\">\n",
       "      <th></th>\n",
       "      <th>good_bad_ind</th>\n",
       "    </tr>\n",
       "    <tr>\n",
       "      <th>termdays</th>\n",
       "      <th></th>\n",
       "    </tr>\n",
       "  </thead>\n",
       "  <tbody>\n",
       "    <tr>\n",
       "      <td>15</td>\n",
       "      <td>0.767883</td>\n",
       "    </tr>\n",
       "    <tr>\n",
       "      <td>30</td>\n",
       "      <td>0.783980</td>\n",
       "    </tr>\n",
       "    <tr>\n",
       "      <td>60</td>\n",
       "      <td>0.803653</td>\n",
       "    </tr>\n",
       "    <tr>\n",
       "      <td>90</td>\n",
       "      <td>0.857143</td>\n",
       "    </tr>\n",
       "  </tbody>\n",
       "</table>\n",
       "</div>"
      ],
      "text/plain": [
       "          good_bad_ind\n",
       "termdays              \n",
       "15            0.767883\n",
       "30            0.783980\n",
       "60            0.803653\n",
       "90            0.857143"
      ]
     },
     "execution_count": 31,
     "metadata": {},
     "output_type": "execute_result"
    }
   ],
   "source": [
    "data[[\"termdays\", 'good_bad_ind']].groupby(['termdays']).mean()"
   ]
  },
  {
   "cell_type": "markdown",
   "metadata": {},
   "source": [
    "Short term loans are more likely to be defaulted"
   ]
  },
  {
   "cell_type": "markdown",
   "metadata": {},
   "source": [
    "# Make test dataset"
   ]
  },
  {
   "cell_type": "code",
   "execution_count": 32,
   "metadata": {},
   "outputs": [],
   "source": [
    "test_demo_cols = demo_features(test_demo)\n",
    "test_prevloan_cols_grp_cols = prevloan_features(test_prevloan)\n",
    "test_perf_cols = perf_features(test_perf, False)"
   ]
  },
  {
   "cell_type": "code",
   "execution_count": 33,
   "metadata": {},
   "outputs": [],
   "source": [
    "test = merge_sets(test_perf_cols, test_demo_cols, test_prevloan_cols_grp_cols)"
   ]
  },
  {
   "cell_type": "code",
   "execution_count": 34,
   "metadata": {},
   "outputs": [
    {
     "data": {
      "text/plain": [
       "Index(['customerid', 'loannumber', 'loanamount', 'termdays', 'age',\n",
       "       'bank_account_type_Current', 'bank_account_type_Other',\n",
       "       'bank_account_type_Savings', 'employment_status_clients_Contract',\n",
       "       'employment_status_clients_Permanent',\n",
       "       'employment_status_clients_Retired',\n",
       "       'employment_status_clients_Self-Employed',\n",
       "       'employment_status_clients_Student',\n",
       "       'employment_status_clients_Unemployed',\n",
       "       'employment_status_clients_Unknown', 'avg_loanamount',\n",
       "       'total_missed_first_due_date', 'total_closed_loan_late',\n",
       "       'average_termdays'],\n",
       "      dtype='object')"
      ]
     },
     "execution_count": 34,
     "metadata": {},
     "output_type": "execute_result"
    }
   ],
   "source": [
    "test.columns"
   ]
  },
  {
   "cell_type": "markdown",
   "metadata": {},
   "source": [
    "# Baseline"
   ]
  },
  {
   "cell_type": "code",
   "execution_count": 35,
   "metadata": {},
   "outputs": [],
   "source": [
    "n = train_perf.shape[0]\n",
    "random_guess = np.random.randint(2, size=n)"
   ]
  },
  {
   "cell_type": "code",
   "execution_count": 36,
   "metadata": {},
   "outputs": [
    {
     "data": {
      "text/plain": [
       "0.48878205128205127"
      ]
     },
     "execution_count": 36,
     "metadata": {},
     "output_type": "execute_result"
    }
   ],
   "source": [
    "sum(random_guess == train_perf['good_bad_ind'])/n"
   ]
  },
  {
   "cell_type": "markdown",
   "metadata": {},
   "source": [
    "Performamce to beat to have more value than a random guess ~50%"
   ]
  },
  {
   "cell_type": "markdown",
   "metadata": {},
   "source": [
    "# Modelling\n",
    "## Random Forest"
   ]
  },
  {
   "cell_type": "code",
   "execution_count": 37,
   "metadata": {},
   "outputs": [
    {
     "data": {
      "text/plain": [
       "0.9428484107579462"
      ]
     },
     "execution_count": 37,
     "metadata": {},
     "output_type": "execute_result"
    }
   ],
   "source": [
    "features = train.drop(['customerid','good_bad_ind'] , axis=1)\n",
    "y = train['good_bad_ind']\n",
    "rf = RandomForestClassifier(n_estimators=100)\n",
    "rf.fit(features, y)\n",
    "y_pred = rf.predict(features)\n",
    "accuracy_score(y, y_pred)"
   ]
  },
  {
   "cell_type": "markdown",
   "metadata": {},
   "source": [
    "Peformance when predicting on self ~ 94%"
   ]
  },
  {
   "cell_type": "code",
   "execution_count": 38,
   "metadata": {},
   "outputs": [
    {
     "data": {
      "text/plain": [
       "0.7567237163814181"
      ]
     },
     "execution_count": 38,
     "metadata": {},
     "output_type": "execute_result"
    }
   ],
   "source": [
    "X_train, X_test, y_train, y_test = train_test_split(features, y, test_size=0.25, random_state=42)\n",
    "rf = RandomForestClassifier(n_estimators=100)\n",
    "rf.fit(X_train, y_train)\n",
    "y_pred = rf.predict(X_test)\n",
    "accuracy_score(y_test, y_pred)"
   ]
  },
  {
   "cell_type": "code",
   "execution_count": 39,
   "metadata": {},
   "outputs": [
    {
     "name": "stdout",
     "output_type": "stream",
     "text": [
      "termdays 0.3298527366451739\n",
      "total_missed_first_due_date 0.11488132236268224\n",
      "customerid 0.11265519738738558\n",
      "employment_status_clients_Unknown 0.09271317155094401\n",
      "avg_loanamount 0.08507102445427668\n",
      "employment_status_clients_Unemployed 0.08388581692193958\n",
      "loannumber 0.04209329276376596\n",
      "loanamount 0.040038265476920416\n",
      "bank_account_type_Savings 0.020911632213758927\n",
      "employment_status_clients_Student 0.01888857516126254\n",
      "bank_account_type_Current 0.01613803953759286\n",
      "age 0.014832529450217494\n",
      "employment_status_clients_Retired 0.010520039114054145\n",
      "employment_status_clients_Permanent 0.009305042478043526\n",
      "employment_status_clients_Self-Employed 0.005436943794198318\n",
      "good_bad_ind 0.0026748307110508315\n",
      "employment_status_clients_Contract 0.00010153997673293588\n",
      "bank_account_type_Other 0.0\n"
     ]
    }
   ],
   "source": [
    "ind = rf.feature_importances_.argsort()[::-1]\n",
    "features = rf.feature_importances_[ind]\n",
    "cols = train.columns[ind]\n",
    "for i in range(len(X_test.columns)):\n",
    "    print(cols[i], features[i])"
   ]
  },
  {
   "cell_type": "markdown",
   "metadata": {},
   "source": [
    "### Test Output"
   ]
  },
  {
   "cell_type": "code",
   "execution_count": 40,
   "metadata": {},
   "outputs": [],
   "source": [
    "test_pred = rf.predict(test.drop('customerid', axis =1))"
   ]
  },
  {
   "cell_type": "code",
   "execution_count": 41,
   "metadata": {},
   "outputs": [
    {
     "name": "stderr",
     "output_type": "stream",
     "text": [
      "/Users/donnestevenson/opt/anaconda3/lib/python3.7/site-packages/ipykernel_launcher.py:2: SettingWithCopyWarning: \n",
      "A value is trying to be set on a copy of a slice from a DataFrame.\n",
      "Try using .loc[row_indexer,col_indexer] = value instead\n",
      "\n",
      "See the caveats in the documentation: http://pandas.pydata.org/pandas-docs/stable/user_guide/indexing.html#returning-a-view-versus-a-copy\n",
      "  \n",
      "/Users/donnestevenson/opt/anaconda3/lib/python3.7/site-packages/pandas/core/frame.py:4223: SettingWithCopyWarning: \n",
      "A value is trying to be set on a copy of a slice from a DataFrame\n",
      "\n",
      "See the caveats in the documentation: http://pandas.pydata.org/pandas-docs/stable/user_guide/indexing.html#returning-a-view-versus-a-copy\n",
      "  return super().rename(**kwargs)\n"
     ]
    }
   ],
   "source": [
    "test_output = test[['customerid']]\n",
    "test_output['Good_Bad_flag'] = test_pred\n",
    "test_output.rename({'customerid': 'customerID'}, inplace=True, axis =1)\n",
    "test_output.to_csv('../output/predictions.csv')"
   ]
  },
  {
   "cell_type": "markdown",
   "metadata": {},
   "source": [
    "# Business Questions"
   ]
  },
  {
   "cell_type": "markdown",
   "metadata": {},
   "source": [
    "1. What would be your recommendation to the client based on your analysis?\n",
    "2. Please provide 1 relevant & interesting visualization and describe it to the client\n",
    "3. If you were allowed to use external data what kind of data would you think of? How do you think it would impact your predictions?\n",
    "4. What would have been your next steps if you had more time?\n",
    "5. Do you have any comments / feedback about the assessment?"
   ]
  },
  {
   "cell_type": "markdown",
   "metadata": {},
   "source": [
    "### Question 1."
   ]
  },
  {
   "cell_type": "markdown",
   "metadata": {},
   "source": [
    "The model is perfroming at abour 75% on a test set taken from the trainig data the moment. \n",
    "Based on the analysis, students are the most likely to default with a default proportion of about 27%. However the the group that do payback their loans are on average older than those that dont. Suggesting older students are less risky to offer loans to."
   ]
  },
  {
   "cell_type": "markdown",
   "metadata": {},
   "source": [
    "### Question 2."
   ]
  },
  {
   "cell_type": "markdown",
   "metadata": {},
   "source": [
    "This visulisation show the age and employment status of clients seperated by if they paid back their loans on time or not. The higher the bar the higher the percentage of the loans that group paid off in time. \n",
    "Notice that for the employment_status_clients_Contract group those that paid back the loan (orange bar) are on average older than those that did not (blue bar) this suggests that the younger clients who are contracted are more risky. Similarly the unemployed group who did not pay their loans were on average younger than those that did. Without assuming caustaion this does indicate a relationship between age and liklihood for paying back loans for specific emplyment groups. \n",
    "The unemplyed group have a particularly low percentages of successful repayaments on 60 day loans. \n",
    "\n",
    "This suggests further investgation into age and loan repayments is warranted. "
   ]
  },
  {
   "cell_type": "code",
   "execution_count": 370,
   "metadata": {},
   "outputs": [
    {
     "data": {
      "text/plain": [
       "<matplotlib.axes._subplots.AxesSubplot at 0x1a3c7f2490>"
      ]
     },
     "execution_count": 370,
     "metadata": {},
     "output_type": "execute_result"
    },
    {
     "data": {
      "image/png": "[encoded data removed]",
      "text/plain": [
       "<Figure size 1080x576 with 1 Axes>"
      ]
     },
     "metadata": {},
     "output_type": "display_data"
    }
   ],
   "source": [
    "fig, axs = plt.subplots(1,1,figsize=(15,8))\n",
    "axs.set_xticklabels(['employment_status_clients_Contract',\n",
    "            'employment_status_clients_Permanent',\n",
    "            'employment_status_clients_Retired',\n",
    "            'employment_status_clients_Self-Employed',\n",
    "            'employment_status_clients_Student',\n",
    "            'employment_status_clients_Unemployed'], rotation=45)\n",
    "sns.boxplot(data = data, y='age', x ='employment_status', hue = 'good_bad_ind')"
   ]
  },
  {
   "cell_type": "markdown",
   "metadata": {},
   "source": [
    "### Question 3."
   ]
  },
  {
   "cell_type": "markdown",
   "metadata": {},
   "source": [
    "If external data could be used, the latitude and logintiude data could be added to investigate if there exists a relationship between location and risk. \n"
   ]
  },
  {
   "cell_type": "markdown",
   "metadata": {},
   "source": [
    "### Question 4."
   ]
  },
  {
   "cell_type": "markdown",
   "metadata": {},
   "source": [
    "1. Look at which group they make the most profit off of by comparing the amout total due, loan anmount and the groups least likely to default. \n",
    "2. More time invetigating hyperparameters and models that might give better performance.\n",
    "3. Investigate the inner join on the merge of data sets that is resulting in data loss. \n"
   ]
  },
  {
   "cell_type": "markdown",
   "metadata": {},
   "source": [
    "### Question 5."
   ]
  },
  {
   "cell_type": "markdown",
   "metadata": {},
   "source": [
    "It would be nice to be able to work on this over a few days. In order to have some time to thing and plan."
   ]
  },
  {
   "cell_type": "code",
   "execution_count": null,
   "metadata": {},
   "outputs": [],
   "source": []
  }
 ],
 "metadata": {
  "kernelspec": {
   "display_name": "Python 3",
   "language": "python",
   "name": "python3"
  },
  "language_info": {
   "codemirror_mode": {
    "name": "ipython",
    "version": 3
   },
   "file_extension": ".py",
   "mimetype": "text/x-python",
   "name": "python",
   "nbconvert_exporter": "python",
   "pygments_lexer": "ipython3",
   "version": "3.7.4"
  }
 },
 "nbformat": 4,
 "nbformat_minor": 2
}
